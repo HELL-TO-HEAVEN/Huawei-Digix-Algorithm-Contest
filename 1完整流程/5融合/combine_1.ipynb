{
 "cells": [
  {
   "cell_type": "markdown",
   "metadata": {},
   "source": [
    "# lgb"
   ]
  },
  {
   "cell_type": "code",
   "execution_count": 1,
   "metadata": {},
   "outputs": [],
   "source": [
    "import pandas as pd"
   ]
  },
  {
   "cell_type": "code",
   "execution_count": 21,
   "metadata": {},
   "outputs": [],
   "source": [
    "lgb_result_27 = pd.read_csv('lgb_result/********.csv')\n",
    "lgb_result_28 = pd.read_csv('lgb_result/********.csv')\n",
    "lgb_result_29 = pd.read_csv('lgb_result/********.csv')\n",
    "sub1 = pd.DataFrame()\n",
    "pred = (lgb_result_27['probability'] + lgb_result_28['probability'] + lgb_result_29['probability'])/3\n",
    "sub1['probability'] = pred.round(6)"
   ]
  },
  {
   "cell_type": "markdown",
   "metadata": {},
   "source": [
    "# xgb"
   ]
  },
  {
   "cell_type": "code",
   "execution_count": 2,
   "metadata": {},
   "outputs": [],
   "source": [
    "xgb_result_27 = pd.read_csv('xgb_result/********.csv')\n",
    "xgb_result_28 = pd.read_csv('xgb_result/********.csv')\n",
    "xgb_result_29 = pd.read_csv('xgb_result/********.csv')\n",
    "sub2 = pd.DataFrame()\n",
    "pred = (xgb_result_27['probability'] + xgb_result_28['probability'] + xgb_result_29['probability'])/3\n",
    "sub2['probability'] = pred.round(6)"
   ]
  },
  {
   "cell_type": "markdown",
   "metadata": {},
   "source": [
    "# xDeepFM"
   ]
  },
  {
   "cell_type": "code",
   "execution_count": null,
   "metadata": {},
   "outputs": [],
   "source": [
    "xDeepFM_result_27 = pd.read_csv('xdeepfm_result/********.csv')\n",
    "xDeepFM_result_28 = pd.read_csv('xdeepfm_result/********.csv')\n",
    "xDeepFM_result_29 = pd.read_csv('v/********.csv')\n",
    "sub3 = pd.DataFrame()\n",
    "pred = (xDeepFM_result_27['probability'] + xDeepFM_result_28['probability'] + xDeepFM_result_29['probability'])/3\n",
    "sub3['probability'] = pred.round(6)"
   ]
  },
  {
   "cell_type": "markdown",
   "metadata": {},
   "source": [
    "# 融合(权重需要试)"
   ]
  },
  {
   "cell_type": "code",
   "execution_count": null,
   "metadata": {},
   "outputs": [],
   "source": [
    "sub = pd.DataFrame({'id':lgb_result_27['id']})\n",
    "sub['probability'] = (0.4*sub1['probability'] + \n",
    "                      0.4*sub2['probability'] + \n",
    "                      0.2*sub3['probability'] )\n",
    "\n",
    "sub.to_csv('submission.csv',index = False)"
   ]
  }
 ],
 "metadata": {
  "kernelspec": {
   "display_name": "Python 3",
   "language": "python",
   "name": "python3"
  },
  "language_info": {
   "codemirror_mode": {
    "name": "ipython",
    "version": 3
   },
   "file_extension": ".py",
   "mimetype": "text/x-python",
   "name": "python",
   "nbconvert_exporter": "python",
   "pygments_lexer": "ipython3",
   "version": "3.6.8"
  }
 },
 "nbformat": 4,
 "nbformat_minor": 2
}
