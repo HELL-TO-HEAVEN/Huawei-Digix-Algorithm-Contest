{
 "cells": [
  {
   "cell_type": "markdown",
   "metadata": {},
   "source": [
    "将每一天的数据分离出开来，date中存放日期，reader_pandas第一个参数输入需要分离的原数据的存放路径，path是按日期分离后数据的存放路径"
   ]
  },
  {
   "cell_type": "code",
   "execution_count": null,
   "metadata": {},
   "outputs": [
    {
     "name": "stderr",
     "output_type": "stream",
     "text": [
      "Reading ...:  16%|██████████▏                                                     | 1598/10000 [05:15<26:56,  5.20it/s]\n"
     ]
    },
    {
     "name": "stdout",
     "output_type": "stream",
     "text": [
      "(25583340, 8)\n",
      "Day 26 separated!\n"
     ]
    },
    {
     "name": "stderr",
     "output_type": "stream",
     "text": [
      "Reading ...:  16%|██████████▏                                                     | 1598/10000 [04:53<25:39,  5.46it/s]\n"
     ]
    }
   ],
   "source": [
    "import pandas as pd\n",
    "import numpy as np\n",
    "import time\n",
    "from tqdm import tqdm\n",
    "\n",
    "#chunksize是一次读入多少条数据，patitions是最大迭代次数，chunksize*patitions应大于总数据的条数\n",
    "def reader_pandas(file,date_day, chunkSize=100000, patitions=10 ** 4):\n",
    "    reader = pd.read_csv(file,iterator=True)\n",
    "    chunks = []\n",
    "    with tqdm(range(patitions), 'Reading ...') as t:\n",
    "        for _ in t:\n",
    "            try:\n",
    "                chunk = reader.get_chunk(chunkSize)\n",
    "                chunk.columns = ['label', 'uId', 'adID', 'operTime', 'siteId', 'slotId', 'contentId', 'netType']\n",
    "                date = pd.to_datetime(chunk['operTime'])\n",
    "                x=date.dt.day\n",
    "                chunk1 = chunk[x == date_day]\n",
    "                #     print(type(chunks))\n",
    "                chunks.append(chunk1)\n",
    "            except StopIteration:\n",
    "                break\n",
    "    return pd.concat(chunks, ignore_index=True)\n",
    "\n",
    "\n",
    "\n",
    "#####开始分离数据#####\n",
    "date = [26,27,28,29,30,31]\n",
    "for i in date:\n",
    "    result = reader_pandas('C:/Users/Growing/Desktop/hw_dataset/train/train_20190518.csv',i)\n",
    "    path = 'C:/Users/Growing/Desktop/hw_dataset/train/train_'+str(i)+'.csv'\n",
    "#     result.to_csv(path,index = False)\n",
    "    print(result.shape)\n",
    "    print('Day '+str(i)+ ' separated!')\n",
    "\n"
   ]
  }
 ],
 "metadata": {
  "kernelspec": {
   "display_name": "Python 3",
   "language": "python",
   "name": "python3"
  },
  "language_info": {
   "codemirror_mode": {
    "name": "ipython",
    "version": 3
   },
   "file_extension": ".py",
   "mimetype": "text/x-python",
   "name": "python",
   "nbconvert_exporter": "python",
   "pygments_lexer": "ipython3",
   "version": "3.6.8"
  }
 },
 "nbformat": 4,
 "nbformat_minor": 2
}
