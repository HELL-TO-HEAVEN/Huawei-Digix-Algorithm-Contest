{
 "cells": [
  {
   "cell_type": "code",
   "execution_count": 1,
   "metadata": {},
   "outputs": [],
   "source": [
    "import pandas as pd\n",
    "import numpy as np\n",
    "import matplotlib.pyplot as plt\n",
    "import seaborn as sns\n",
    "from sklearn.utils import shuffle\n",
    "from sklearn import metrics, preprocessing\n",
    "import gc\n",
    "import random\n",
    "#显示所有列\n",
    "pd.set_option('display.max_columns', None)\n",
    "#显示所有行\n",
    "pd.set_option('display.max_rows', None)\n",
    "#设置value的显示长度为100，默认为50\n",
    "pd.set_option('max_colwidth',100)"
   ]
  },
  {
   "cell_type": "code",
   "execution_count": 2,
   "metadata": {},
   "outputs": [],
   "source": [
    "user_info = pd.read_csv('/media/zsy/Data/ZSY/hw_dataset/data/clean_user_info.csv')\n",
    "ad_info = pd.read_csv('/media/zsy/Data/ZSY/hw_dataset/data/clean_ad_info.csv')\n",
    "content_info = pd.read_csv('/media/zsy/Data/ZSY/hw_dataset/data/clean_contentId_info.csv')"
   ]
  },
  {
   "cell_type": "code",
   "execution_count": 3,
   "metadata": {},
   "outputs": [
    {
     "data": {
      "text/html": [
       "<div>\n",
       "<style scoped>\n",
       "    .dataframe tbody tr th:only-of-type {\n",
       "        vertical-align: middle;\n",
       "    }\n",
       "\n",
       "    .dataframe tbody tr th {\n",
       "        vertical-align: top;\n",
       "    }\n",
       "\n",
       "    .dataframe thead th {\n",
       "        text-align: right;\n",
       "    }\n",
       "</style>\n",
       "<table border=\"1\" class=\"dataframe\">\n",
       "  <thead>\n",
       "    <tr style=\"text-align: right;\">\n",
       "      <th></th>\n",
       "      <th>uId</th>\n",
       "      <th>age</th>\n",
       "      <th>gender</th>\n",
       "      <th>city</th>\n",
       "      <th>province</th>\n",
       "      <th>phoneType</th>\n",
       "      <th>carrier</th>\n",
       "    </tr>\n",
       "  </thead>\n",
       "  <tbody>\n",
       "    <tr>\n",
       "      <th>0</th>\n",
       "      <td>u129897413</td>\n",
       "      <td>4.0</td>\n",
       "      <td>1.0</td>\n",
       "      <td>184.0</td>\n",
       "      <td>25.0</td>\n",
       "      <td>487.0</td>\n",
       "      <td>3.0</td>\n",
       "    </tr>\n",
       "    <tr>\n",
       "      <th>1</th>\n",
       "      <td>u108906458</td>\n",
       "      <td>4.0</td>\n",
       "      <td>1.0</td>\n",
       "      <td>125.0</td>\n",
       "      <td>28.0</td>\n",
       "      <td>217.0</td>\n",
       "      <td>2.0</td>\n",
       "    </tr>\n",
       "    <tr>\n",
       "      <th>2</th>\n",
       "      <td>u125870461</td>\n",
       "      <td>3.0</td>\n",
       "      <td>1.0</td>\n",
       "      <td>184.0</td>\n",
       "      <td>25.0</td>\n",
       "      <td>474.0</td>\n",
       "      <td>3.0</td>\n",
       "    </tr>\n",
       "    <tr>\n",
       "      <th>3</th>\n",
       "      <td>u133924361</td>\n",
       "      <td>4.0</td>\n",
       "      <td>1.0</td>\n",
       "      <td>184.0</td>\n",
       "      <td>25.0</td>\n",
       "      <td>502.0</td>\n",
       "      <td>2.0</td>\n",
       "    </tr>\n",
       "    <tr>\n",
       "      <th>4</th>\n",
       "      <td>u133924360</td>\n",
       "      <td>4.0</td>\n",
       "      <td>1.0</td>\n",
       "      <td>184.0</td>\n",
       "      <td>25.0</td>\n",
       "      <td>502.0</td>\n",
       "      <td>3.0</td>\n",
       "    </tr>\n",
       "  </tbody>\n",
       "</table>\n",
       "</div>"
      ],
      "text/plain": [
       "          uId  age  gender   city  province  phoneType  carrier\n",
       "0  u129897413  4.0     1.0  184.0      25.0      487.0      3.0\n",
       "1  u108906458  4.0     1.0  125.0      28.0      217.0      2.0\n",
       "2  u125870461  3.0     1.0  184.0      25.0      474.0      3.0\n",
       "3  u133924361  4.0     1.0  184.0      25.0      502.0      2.0\n",
       "4  u133924360  4.0     1.0  184.0      25.0      502.0      3.0"
      ]
     },
     "execution_count": 3,
     "metadata": {},
     "output_type": "execute_result"
    }
   ],
   "source": [
    "user_info.head()"
   ]
  },
  {
   "cell_type": "code",
   "execution_count": 4,
   "metadata": {},
   "outputs": [
    {
     "data": {
      "text/html": [
       "<div>\n",
       "<style scoped>\n",
       "    .dataframe tbody tr th:only-of-type {\n",
       "        vertical-align: middle;\n",
       "    }\n",
       "\n",
       "    .dataframe tbody tr th {\n",
       "        vertical-align: top;\n",
       "    }\n",
       "\n",
       "    .dataframe thead th {\n",
       "        text-align: right;\n",
       "    }\n",
       "</style>\n",
       "<table border=\"1\" class=\"dataframe\">\n",
       "  <thead>\n",
       "    <tr style=\"text-align: right;\">\n",
       "      <th></th>\n",
       "      <th>adId</th>\n",
       "      <th>billId</th>\n",
       "      <th>primId</th>\n",
       "      <th>creativeType</th>\n",
       "      <th>intertype</th>\n",
       "      <th>spreadAppId</th>\n",
       "    </tr>\n",
       "  </thead>\n",
       "  <tbody>\n",
       "    <tr>\n",
       "      <th>0</th>\n",
       "      <td>5223</td>\n",
       "      <td>1</td>\n",
       "      <td>6</td>\n",
       "      <td>3</td>\n",
       "      <td>2</td>\n",
       "      <td>73.0</td>\n",
       "    </tr>\n",
       "    <tr>\n",
       "      <th>1</th>\n",
       "      <td>5222</td>\n",
       "      <td>1</td>\n",
       "      <td>6</td>\n",
       "      <td>3</td>\n",
       "      <td>2</td>\n",
       "      <td>73.0</td>\n",
       "    </tr>\n",
       "    <tr>\n",
       "      <th>2</th>\n",
       "      <td>5221</td>\n",
       "      <td>1</td>\n",
       "      <td>234</td>\n",
       "      <td>3</td>\n",
       "      <td>2</td>\n",
       "      <td>73.0</td>\n",
       "    </tr>\n",
       "    <tr>\n",
       "      <th>3</th>\n",
       "      <td>5220</td>\n",
       "      <td>1</td>\n",
       "      <td>234</td>\n",
       "      <td>8</td>\n",
       "      <td>2</td>\n",
       "      <td>73.0</td>\n",
       "    </tr>\n",
       "    <tr>\n",
       "      <th>4</th>\n",
       "      <td>5219</td>\n",
       "      <td>1</td>\n",
       "      <td>234</td>\n",
       "      <td>3</td>\n",
       "      <td>2</td>\n",
       "      <td>73.0</td>\n",
       "    </tr>\n",
       "  </tbody>\n",
       "</table>\n",
       "</div>"
      ],
      "text/plain": [
       "   adId  billId  primId  creativeType  intertype  spreadAppId\n",
       "0  5223       1       6             3          2         73.0\n",
       "1  5222       1       6             3          2         73.0\n",
       "2  5221       1     234             3          2         73.0\n",
       "3  5220       1     234             8          2         73.0\n",
       "4  5219       1     234             3          2         73.0"
      ]
     },
     "execution_count": 4,
     "metadata": {},
     "output_type": "execute_result"
    }
   ],
   "source": [
    "ad_info.head()"
   ]
  },
  {
   "cell_type": "code",
   "execution_count": 5,
   "metadata": {},
   "outputs": [
    {
     "data": {
      "text/html": [
       "<div>\n",
       "<style scoped>\n",
       "    .dataframe tbody tr th:only-of-type {\n",
       "        vertical-align: middle;\n",
       "    }\n",
       "\n",
       "    .dataframe tbody tr th {\n",
       "        vertical-align: top;\n",
       "    }\n",
       "\n",
       "    .dataframe thead th {\n",
       "        text-align: right;\n",
       "    }\n",
       "</style>\n",
       "<table border=\"1\" class=\"dataframe\">\n",
       "  <thead>\n",
       "    <tr style=\"text-align: right;\">\n",
       "      <th></th>\n",
       "      <th>contentId</th>\n",
       "      <th>firstClass</th>\n",
       "      <th>secondClass</th>\n",
       "    </tr>\n",
       "  </thead>\n",
       "  <tbody>\n",
       "    <tr>\n",
       "      <th>0</th>\n",
       "      <td>5198</td>\n",
       "      <td>23</td>\n",
       "      <td>89</td>\n",
       "    </tr>\n",
       "    <tr>\n",
       "      <th>1</th>\n",
       "      <td>5197</td>\n",
       "      <td>1</td>\n",
       "      <td>1</td>\n",
       "    </tr>\n",
       "    <tr>\n",
       "      <th>2</th>\n",
       "      <td>5196</td>\n",
       "      <td>1</td>\n",
       "      <td>1</td>\n",
       "    </tr>\n",
       "    <tr>\n",
       "      <th>3</th>\n",
       "      <td>5195</td>\n",
       "      <td>1</td>\n",
       "      <td>1</td>\n",
       "    </tr>\n",
       "    <tr>\n",
       "      <th>4</th>\n",
       "      <td>5194</td>\n",
       "      <td>1</td>\n",
       "      <td>1</td>\n",
       "    </tr>\n",
       "  </tbody>\n",
       "</table>\n",
       "</div>"
      ],
      "text/plain": [
       "   contentId  firstClass  secondClass\n",
       "0       5198          23           89\n",
       "1       5197           1            1\n",
       "2       5196           1            1\n",
       "3       5195           1            1\n",
       "4       5194           1            1"
      ]
     },
     "execution_count": 5,
     "metadata": {},
     "output_type": "execute_result"
    }
   ],
   "source": [
    "content_info.head()"
   ]
  },
  {
   "cell_type": "markdown",
   "metadata": {},
   "source": [
    "# 处理每一天的数据，按照ｕｉｄ出现次数采样，ｌａｂｅｌ＝１"
   ]
  },
  {
   "cell_type": "code",
   "execution_count": 6,
   "metadata": {},
   "outputs": [],
   "source": [
    "train = pd.read_csv(r'/media/zsy/Data/ZSY/hw_dataset/data/init/26-31/train_31.csv')"
   ]
  },
  {
   "cell_type": "code",
   "execution_count": 7,
   "metadata": {},
   "outputs": [],
   "source": [
    "train.columns = ['label', 'uId', 'adId', 'operTime', 'siteId', 'slotId', 'contentId', 'netType']"
   ]
  },
  {
   "cell_type": "markdown",
   "metadata": {},
   "source": [
    "# 分离出train中label = 1 和　lable = 0 的数据\n",
    "# 并分别计算他们的uid 出现的次数，作为新的一列"
   ]
  },
  {
   "cell_type": "code",
   "execution_count": 8,
   "metadata": {},
   "outputs": [],
   "source": [
    "neg = train.loc[train['label'] == 0]\n",
    "pos = train.loc[train['label'] == 1]\n",
    "neg = neg.reset_index(drop = True)\n",
    "pos = pos.reset_index(drop = True)"
   ]
  },
  {
   "cell_type": "code",
   "execution_count": 9,
   "metadata": {},
   "outputs": [
    {
     "data": {
      "text/plain": [
       "(26340851, 8)"
      ]
     },
     "execution_count": 9,
     "metadata": {},
     "output_type": "execute_result"
    }
   ],
   "source": [
    "neg.shape"
   ]
  },
  {
   "cell_type": "code",
   "execution_count": 10,
   "metadata": {},
   "outputs": [
    {
     "data": {
      "text/plain": [
       "(1687407, 8)"
      ]
     },
     "execution_count": 10,
     "metadata": {},
     "output_type": "execute_result"
    }
   ],
   "source": [
    "pos.shape"
   ]
  },
  {
   "cell_type": "code",
   "execution_count": 11,
   "metadata": {},
   "outputs": [],
   "source": [
    "uid_stats = pos['uId'].value_counts()\n",
    "pos_uid_counts = np.hstack([pos['uId'].values.reshape(-1,1),pos['uId'].map(uid_stats).values.reshape(-1,1)])\n",
    "pos_uid_counts = pd.DataFrame(pos_uid_counts)\n",
    "pos_uid_counts.columns = ['uId','counts']\n",
    "pos['uId_count'] = pos_uid_counts['counts']"
   ]
  },
  {
   "cell_type": "code",
   "execution_count": 12,
   "metadata": {},
   "outputs": [],
   "source": [
    "uid_stats = neg['uId'].value_counts()\n",
    "neg_uid_counts = np.hstack([neg['uId'].values.reshape(-1,1),neg['uId'].map(uid_stats).values.reshape(-1,1)])\n",
    "neg_uid_counts = pd.DataFrame(neg_uid_counts)\n",
    "neg_uid_counts.columns = ['uId','counts']\n",
    "neg['uId_count'] = neg_uid_counts['counts']"
   ]
  },
  {
   "cell_type": "markdown",
   "metadata": {},
   "source": [
    "# 将label = 1 的数据中，uid仅出现过一次的那些数据提取出来(50w)"
   ]
  },
  {
   "cell_type": "code",
   "execution_count": 13,
   "metadata": {},
   "outputs": [
    {
     "data": {
      "text/plain": [
       "(500000, 9)"
      ]
     },
     "execution_count": 13,
     "metadata": {},
     "output_type": "execute_result"
    }
   ],
   "source": [
    "uid1_num = 500000\n",
    "train_uid1_label1_counts_data = pos.loc[pos['uId_count'] == 1,:]\n",
    "train_uid1_label1_counts_data = train_uid1_label1_counts_data.reset_index(drop = True)\n",
    "index = random.sample(range(0,train_uid1_label1_counts_data.shape[0]),uid1_num)\n",
    "train_uid1_label1_counts_data = train_uid1_label1_counts_data.iloc[index,:]\n",
    "train_uid1_label1_counts_data = train_uid1_label1_counts_data.reset_index(drop = True)\n",
    "train_uid1_label1_counts_data.shape"
   ]
  },
  {
   "cell_type": "code",
   "execution_count": 14,
   "metadata": {},
   "outputs": [
    {
     "data": {
      "text/plain": [
       "500000"
      ]
     },
     "execution_count": 14,
     "metadata": {},
     "output_type": "execute_result"
    }
   ],
   "source": [
    "len(set(index))"
   ]
  },
  {
   "cell_type": "markdown",
   "metadata": {},
   "source": [
    "# 在label = 0 的数据中，使用上一步得到的数据的uid进行匹配，得到label = 0 的数据"
   ]
  },
  {
   "cell_type": "code",
   "execution_count": 15,
   "metadata": {},
   "outputs": [
    {
     "data": {
      "text/plain": [
       "(1845486, 9)"
      ]
     },
     "execution_count": 15,
     "metadata": {},
     "output_type": "execute_result"
    }
   ],
   "source": [
    "train_uid_label0_counts_data = neg.loc[neg['uId'].isin(train_uid1_label1_counts_data['uId'].unique().tolist()),:]\n",
    "train_uid_label0_counts_data = train_uid_label0_counts_data.reset_index(drop = True)\n",
    "train_uid_label0_counts_data.shape"
   ]
  },
  {
   "cell_type": "code",
   "execution_count": 16,
   "metadata": {},
   "outputs": [],
   "source": [
    "rest_num = 1000000-train_uid1_label1_counts_data.shape[0]"
   ]
  },
  {
   "cell_type": "markdown",
   "metadata": {},
   "source": [
    "# 采样剩下的负样本，凑够１００万数据"
   ]
  },
  {
   "cell_type": "code",
   "execution_count": 17,
   "metadata": {},
   "outputs": [],
   "source": [
    "index = random.sample(range(0,train_uid_label0_counts_data.shape[0]),rest_num)\n",
    "# index = np.random.randint(0,train_uid_label0_counts_data.shape[0],rest_num)\n",
    "train_uid_label0_counts_sample = train_uid_label0_counts_data.iloc[index,:]"
   ]
  },
  {
   "cell_type": "code",
   "execution_count": 18,
   "metadata": {},
   "outputs": [
    {
     "data": {
      "text/plain": [
       "(500000, 9)"
      ]
     },
     "execution_count": 18,
     "metadata": {},
     "output_type": "execute_result"
    }
   ],
   "source": [
    "train_uid_label0_counts_sample.shape"
   ]
  },
  {
   "cell_type": "code",
   "execution_count": 19,
   "metadata": {},
   "outputs": [
    {
     "data": {
      "text/plain": [
       "500000"
      ]
     },
     "execution_count": 19,
     "metadata": {},
     "output_type": "execute_result"
    }
   ],
   "source": [
    "len(set(index))"
   ]
  },
  {
   "cell_type": "markdown",
   "metadata": {},
   "source": [
    "# 进行数据融合，并且打乱顺序"
   ]
  },
  {
   "cell_type": "code",
   "execution_count": 20,
   "metadata": {},
   "outputs": [],
   "source": [
    "data_label1_uid1 = pd.concat([train_uid1_label1_counts_data,train_uid_label0_counts_sample])\n",
    "data_label1_uid1 = data_label1_uid1.reset_index(drop = True)\n",
    "data_label1_uid1.drop(['uId_count'],axis = 1,inplace = True)\n",
    "data_label1_uid1 = shuffle(data_label1_uid1)\n",
    "data_label1_uid1 = data_label1_uid1.reset_index(drop = True)"
   ]
  },
  {
   "cell_type": "code",
   "execution_count": 21,
   "metadata": {},
   "outputs": [],
   "source": [
    "uid_stats = data_label1_uid1['uId'].value_counts()\n",
    "train_uid1_counts = np.hstack([data_label1_uid1['uId'].values.reshape(-1,1),data_label1_uid1['uId'].map(uid_stats).values.reshape(-1,1)])\n",
    "train_uid1_counts = pd.DataFrame(train_uid1_counts)\n",
    "train_uid1_counts.columns = ['uId','counts']\n",
    "data_label1_uid1['uId_count'] = train_uid1_counts['counts']"
   ]
  },
  {
   "cell_type": "code",
   "execution_count": 22,
   "metadata": {},
   "outputs": [
    {
     "data": {
      "text/html": [
       "<div>\n",
       "<style scoped>\n",
       "    .dataframe tbody tr th:only-of-type {\n",
       "        vertical-align: middle;\n",
       "    }\n",
       "\n",
       "    .dataframe tbody tr th {\n",
       "        vertical-align: top;\n",
       "    }\n",
       "\n",
       "    .dataframe thead th {\n",
       "        text-align: right;\n",
       "    }\n",
       "</style>\n",
       "<table border=\"1\" class=\"dataframe\">\n",
       "  <thead>\n",
       "    <tr style=\"text-align: right;\">\n",
       "      <th></th>\n",
       "      <th>label</th>\n",
       "      <th>uId</th>\n",
       "      <th>adId</th>\n",
       "      <th>operTime</th>\n",
       "      <th>siteId</th>\n",
       "      <th>slotId</th>\n",
       "      <th>contentId</th>\n",
       "      <th>netType</th>\n",
       "      <th>uId_count</th>\n",
       "    </tr>\n",
       "  </thead>\n",
       "  <tbody>\n",
       "    <tr>\n",
       "      <th>0</th>\n",
       "      <td>0</td>\n",
       "      <td>u112790711</td>\n",
       "      <td>2905</td>\n",
       "      <td>2019-03-31 18:29:24.883</td>\n",
       "      <td>10</td>\n",
       "      <td>10</td>\n",
       "      <td>2139</td>\n",
       "      <td>1</td>\n",
       "      <td>7</td>\n",
       "    </tr>\n",
       "    <tr>\n",
       "      <th>1</th>\n",
       "      <td>1</td>\n",
       "      <td>u148208833</td>\n",
       "      <td>4856</td>\n",
       "      <td>2019-03-31 20:03:10.077</td>\n",
       "      <td>3</td>\n",
       "      <td>27</td>\n",
       "      <td>5636</td>\n",
       "      <td>1</td>\n",
       "      <td>4</td>\n",
       "    </tr>\n",
       "    <tr>\n",
       "      <th>2</th>\n",
       "      <td>0</td>\n",
       "      <td>u138114567</td>\n",
       "      <td>1550</td>\n",
       "      <td>2019-03-31 08:26:00.634</td>\n",
       "      <td>3</td>\n",
       "      <td>51</td>\n",
       "      <td>1470</td>\n",
       "      <td>1</td>\n",
       "      <td>12</td>\n",
       "    </tr>\n",
       "    <tr>\n",
       "      <th>3</th>\n",
       "      <td>0</td>\n",
       "      <td>u147594754</td>\n",
       "      <td>1602</td>\n",
       "      <td>2019-03-31 14:47:30.048</td>\n",
       "      <td>9</td>\n",
       "      <td>20</td>\n",
       "      <td>1642</td>\n",
       "      <td>1</td>\n",
       "      <td>3</td>\n",
       "    </tr>\n",
       "    <tr>\n",
       "      <th>4</th>\n",
       "      <td>0</td>\n",
       "      <td>u121898621</td>\n",
       "      <td>1556</td>\n",
       "      <td>2019-03-31 09:43:39.909</td>\n",
       "      <td>8</td>\n",
       "      <td>88</td>\n",
       "      <td>1477</td>\n",
       "      <td>4</td>\n",
       "      <td>12</td>\n",
       "    </tr>\n",
       "    <tr>\n",
       "      <th>5</th>\n",
       "      <td>0</td>\n",
       "      <td>u105300327</td>\n",
       "      <td>4029</td>\n",
       "      <td>2019-03-31 21:11:12.586</td>\n",
       "      <td>10</td>\n",
       "      <td>71</td>\n",
       "      <td>4812</td>\n",
       "      <td>1</td>\n",
       "      <td>4</td>\n",
       "    </tr>\n",
       "    <tr>\n",
       "      <th>6</th>\n",
       "      <td>0</td>\n",
       "      <td>u140325929</td>\n",
       "      <td>2159</td>\n",
       "      <td>2019-03-31 11:44:01.651</td>\n",
       "      <td>10</td>\n",
       "      <td>8</td>\n",
       "      <td>2430</td>\n",
       "      <td>1</td>\n",
       "      <td>12</td>\n",
       "    </tr>\n",
       "    <tr>\n",
       "      <th>7</th>\n",
       "      <td>1</td>\n",
       "      <td>u143404205</td>\n",
       "      <td>4474</td>\n",
       "      <td>2019-03-31 19:21:18.228</td>\n",
       "      <td>8</td>\n",
       "      <td>88</td>\n",
       "      <td>5281</td>\n",
       "      <td>1</td>\n",
       "      <td>1</td>\n",
       "    </tr>\n",
       "    <tr>\n",
       "      <th>8</th>\n",
       "      <td>1</td>\n",
       "      <td>u107002885</td>\n",
       "      <td>1459</td>\n",
       "      <td>2019-03-31 17:37:33.639</td>\n",
       "      <td>3</td>\n",
       "      <td>32</td>\n",
       "      <td>1370</td>\n",
       "      <td>1</td>\n",
       "      <td>2</td>\n",
       "    </tr>\n",
       "    <tr>\n",
       "      <th>9</th>\n",
       "      <td>0</td>\n",
       "      <td>u118786796</td>\n",
       "      <td>4013</td>\n",
       "      <td>2019-03-31 14:50:14.426</td>\n",
       "      <td>10</td>\n",
       "      <td>10</td>\n",
       "      <td>2136</td>\n",
       "      <td>1</td>\n",
       "      <td>5</td>\n",
       "    </tr>\n",
       "    <tr>\n",
       "      <th>10</th>\n",
       "      <td>0</td>\n",
       "      <td>u119036639</td>\n",
       "      <td>4864</td>\n",
       "      <td>2019-03-31 17:55:13.742</td>\n",
       "      <td>10</td>\n",
       "      <td>12</td>\n",
       "      <td>5644</td>\n",
       "      <td>1</td>\n",
       "      <td>2</td>\n",
       "    </tr>\n",
       "    <tr>\n",
       "      <th>11</th>\n",
       "      <td>0</td>\n",
       "      <td>u123308507</td>\n",
       "      <td>1227</td>\n",
       "      <td>2019-03-31 16:00:07.040</td>\n",
       "      <td>10</td>\n",
       "      <td>30</td>\n",
       "      <td>944</td>\n",
       "      <td>4</td>\n",
       "      <td>3</td>\n",
       "    </tr>\n",
       "    <tr>\n",
       "      <th>12</th>\n",
       "      <td>1</td>\n",
       "      <td>u133506492</td>\n",
       "      <td>1902</td>\n",
       "      <td>2019-03-31 09:53:47.134</td>\n",
       "      <td>2</td>\n",
       "      <td>81</td>\n",
       "      <td>2097</td>\n",
       "      <td>1</td>\n",
       "      <td>1</td>\n",
       "    </tr>\n",
       "    <tr>\n",
       "      <th>13</th>\n",
       "      <td>1</td>\n",
       "      <td>u112028276</td>\n",
       "      <td>1614</td>\n",
       "      <td>2019-03-31 11:07:20.365</td>\n",
       "      <td>9</td>\n",
       "      <td>22</td>\n",
       "      <td>1676</td>\n",
       "      <td>1</td>\n",
       "      <td>4</td>\n",
       "    </tr>\n",
       "    <tr>\n",
       "      <th>14</th>\n",
       "      <td>0</td>\n",
       "      <td>u114725105</td>\n",
       "      <td>1556</td>\n",
       "      <td>2019-03-31 14:34:52.308</td>\n",
       "      <td>10</td>\n",
       "      <td>8</td>\n",
       "      <td>1477</td>\n",
       "      <td>4</td>\n",
       "      <td>2</td>\n",
       "    </tr>\n",
       "    <tr>\n",
       "      <th>15</th>\n",
       "      <td>1</td>\n",
       "      <td>u140439569</td>\n",
       "      <td>2814</td>\n",
       "      <td>2019-03-31 23:46:45.490</td>\n",
       "      <td>8</td>\n",
       "      <td>88</td>\n",
       "      <td>3168</td>\n",
       "      <td>1</td>\n",
       "      <td>1</td>\n",
       "    </tr>\n",
       "    <tr>\n",
       "      <th>16</th>\n",
       "      <td>1</td>\n",
       "      <td>u138240450</td>\n",
       "      <td>1483</td>\n",
       "      <td>2019-03-31 08:33:04.264</td>\n",
       "      <td>3</td>\n",
       "      <td>27</td>\n",
       "      <td>1386</td>\n",
       "      <td>1</td>\n",
       "      <td>4</td>\n",
       "    </tr>\n",
       "    <tr>\n",
       "      <th>17</th>\n",
       "      <td>1</td>\n",
       "      <td>u135951424</td>\n",
       "      <td>1600</td>\n",
       "      <td>2019-03-31 12:30:09.077</td>\n",
       "      <td>3</td>\n",
       "      <td>68</td>\n",
       "      <td>1322</td>\n",
       "      <td>4</td>\n",
       "      <td>2</td>\n",
       "    </tr>\n",
       "    <tr>\n",
       "      <th>18</th>\n",
       "      <td>0</td>\n",
       "      <td>u141548727</td>\n",
       "      <td>1462</td>\n",
       "      <td>2019-03-31 17:58:26.066</td>\n",
       "      <td>3</td>\n",
       "      <td>32</td>\n",
       "      <td>1373</td>\n",
       "      <td>1</td>\n",
       "      <td>8</td>\n",
       "    </tr>\n",
       "    <tr>\n",
       "      <th>19</th>\n",
       "      <td>0</td>\n",
       "      <td>u108581594</td>\n",
       "      <td>2084</td>\n",
       "      <td>2019-03-31 16:50:16.979</td>\n",
       "      <td>10</td>\n",
       "      <td>30</td>\n",
       "      <td>950</td>\n",
       "      <td>1</td>\n",
       "      <td>4</td>\n",
       "    </tr>\n",
       "  </tbody>\n",
       "</table>\n",
       "</div>"
      ],
      "text/plain": [
       "    label         uId  adId                 operTime  siteId  slotId  \\\n",
       "0       0  u112790711  2905  2019-03-31 18:29:24.883      10      10   \n",
       "1       1  u148208833  4856  2019-03-31 20:03:10.077       3      27   \n",
       "2       0  u138114567  1550  2019-03-31 08:26:00.634       3      51   \n",
       "3       0  u147594754  1602  2019-03-31 14:47:30.048       9      20   \n",
       "4       0  u121898621  1556  2019-03-31 09:43:39.909       8      88   \n",
       "5       0  u105300327  4029  2019-03-31 21:11:12.586      10      71   \n",
       "6       0  u140325929  2159  2019-03-31 11:44:01.651      10       8   \n",
       "7       1  u143404205  4474  2019-03-31 19:21:18.228       8      88   \n",
       "8       1  u107002885  1459  2019-03-31 17:37:33.639       3      32   \n",
       "9       0  u118786796  4013  2019-03-31 14:50:14.426      10      10   \n",
       "10      0  u119036639  4864  2019-03-31 17:55:13.742      10      12   \n",
       "11      0  u123308507  1227  2019-03-31 16:00:07.040      10      30   \n",
       "12      1  u133506492  1902  2019-03-31 09:53:47.134       2      81   \n",
       "13      1  u112028276  1614  2019-03-31 11:07:20.365       9      22   \n",
       "14      0  u114725105  1556  2019-03-31 14:34:52.308      10       8   \n",
       "15      1  u140439569  2814  2019-03-31 23:46:45.490       8      88   \n",
       "16      1  u138240450  1483  2019-03-31 08:33:04.264       3      27   \n",
       "17      1  u135951424  1600  2019-03-31 12:30:09.077       3      68   \n",
       "18      0  u141548727  1462  2019-03-31 17:58:26.066       3      32   \n",
       "19      0  u108581594  2084  2019-03-31 16:50:16.979      10      30   \n",
       "\n",
       "    contentId  netType uId_count  \n",
       "0        2139        1         7  \n",
       "1        5636        1         4  \n",
       "2        1470        1        12  \n",
       "3        1642        1         3  \n",
       "4        1477        4        12  \n",
       "5        4812        1         4  \n",
       "6        2430        1        12  \n",
       "7        5281        1         1  \n",
       "8        1370        1         2  \n",
       "9        2136        1         5  \n",
       "10       5644        1         2  \n",
       "11        944        4         3  \n",
       "12       2097        1         1  \n",
       "13       1676        1         4  \n",
       "14       1477        4         2  \n",
       "15       3168        1         1  \n",
       "16       1386        1         4  \n",
       "17       1322        4         2  \n",
       "18       1373        1         8  \n",
       "19        950        1         4  "
      ]
     },
     "execution_count": 22,
     "metadata": {},
     "output_type": "execute_result"
    }
   ],
   "source": [
    "data_label1_uid1.head(20)"
   ]
  },
  {
   "cell_type": "markdown",
   "metadata": {},
   "source": [
    "# 最终数据融合"
   ]
  },
  {
   "cell_type": "code",
   "execution_count": 23,
   "metadata": {},
   "outputs": [],
   "source": [
    "data_label1_uid1 = pd.merge(data_label1_uid1,user_info, how='left', left_on='uId',right_on='uId')\n",
    "data_label1_uid1 =  pd.merge(data_label1_uid1,ad_info, how='left', left_on='adId',right_on='adId')\n",
    "data_label1_uid1 =  pd.merge(data_label1_uid1,content_info, how='left', left_on='contentId',right_on='contentId')\n",
    "data_label1_uid1 = data_label1_uid1.fillna(0)"
   ]
  },
  {
   "cell_type": "code",
   "execution_count": 24,
   "metadata": {},
   "outputs": [
    {
     "data": {
      "text/plain": [
       "(1000000, 22)"
      ]
     },
     "execution_count": 24,
     "metadata": {},
     "output_type": "execute_result"
    }
   ],
   "source": [
    "data_label1_uid1.shape"
   ]
  },
  {
   "cell_type": "code",
   "execution_count": 25,
   "metadata": {},
   "outputs": [],
   "source": [
    "# test_data = pd.merge(test_data,user_info, how='left', left_on='uId',right_on='uId')\n",
    "# test_data =  pd.merge(test_data,ad_info, how='left', left_on='adId',right_on='adId')\n",
    "# test_data =  pd.merge(test_data,content_info, how='left', left_on='contentId',right_on='contentId')\n",
    "# test_data = data_label1_uid1.fillna(0)"
   ]
  },
  {
   "cell_type": "code",
   "execution_count": 26,
   "metadata": {},
   "outputs": [],
   "source": [
    "data_label1_uid1.to_csv('data/by_data_2/by_data_50w/31-50w.csv',index = False)"
   ]
  },
  {
   "cell_type": "code",
   "execution_count": null,
   "metadata": {},
   "outputs": [],
   "source": []
  },
  {
   "cell_type": "code",
   "execution_count": null,
   "metadata": {},
   "outputs": [],
   "source": []
  },
  {
   "cell_type": "code",
   "execution_count": null,
   "metadata": {},
   "outputs": [],
   "source": []
  }
 ],
 "metadata": {
  "kernelspec": {
   "display_name": "Python 3",
   "language": "python",
   "name": "python3"
  },
  "language_info": {
   "codemirror_mode": {
    "name": "ipython",
    "version": 3
   },
   "file_extension": ".py",
   "mimetype": "text/x-python",
   "name": "python",
   "nbconvert_exporter": "python",
   "pygments_lexer": "ipython3",
   "version": "3.6.8"
  }
 },
 "nbformat": 4,
 "nbformat_minor": 2
}
