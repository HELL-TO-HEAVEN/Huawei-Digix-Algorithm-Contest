{
 "cells": [
  {
   "cell_type": "code",
   "execution_count": 1,
   "metadata": {},
   "outputs": [],
   "source": [
    "import pandas as pd\n",
    "import numpy as np\n",
    "import matplotlib.pyplot as plt\n",
    "import seaborn as sns\n",
    "from sklearn.utils import shuffle\n",
    "from sklearn import metrics, preprocessing\n",
    "import gc\n",
    "#显示所有列\n",
    "pd.set_option('display.max_columns', None)\n",
    "#显示所有行\n",
    "pd.set_option('display.max_rows', None)\n",
    "#设置value的显示长度为100，默认为50\n",
    "pd.set_option('max_colwidth',100)"
   ]
  },
  {
   "cell_type": "code",
   "execution_count": 2,
   "metadata": {},
   "outputs": [],
   "source": [
    "user_info = pd.read_csv('/media/zsy/Data/ZSY/hw_dataset/data/clean_user_info.csv')\n",
    "ad_info = pd.read_csv('/media/zsy/Data/ZSY/hw_dataset/data/clean_ad_info.csv')\n",
    "content_info = pd.read_csv('/media/zsy/Data/ZSY/hw_dataset/data/clean_contentId_info.csv')"
   ]
  },
  {
   "cell_type": "code",
   "execution_count": 3,
   "metadata": {},
   "outputs": [
    {
     "data": {
      "text/html": [
       "<div>\n",
       "<style scoped>\n",
       "    .dataframe tbody tr th:only-of-type {\n",
       "        vertical-align: middle;\n",
       "    }\n",
       "\n",
       "    .dataframe tbody tr th {\n",
       "        vertical-align: top;\n",
       "    }\n",
       "\n",
       "    .dataframe thead th {\n",
       "        text-align: right;\n",
       "    }\n",
       "</style>\n",
       "<table border=\"1\" class=\"dataframe\">\n",
       "  <thead>\n",
       "    <tr style=\"text-align: right;\">\n",
       "      <th></th>\n",
       "      <th>uId</th>\n",
       "      <th>age</th>\n",
       "      <th>gender</th>\n",
       "      <th>city</th>\n",
       "      <th>province</th>\n",
       "      <th>phoneType</th>\n",
       "      <th>carrier</th>\n",
       "    </tr>\n",
       "  </thead>\n",
       "  <tbody>\n",
       "    <tr>\n",
       "      <th>0</th>\n",
       "      <td>u129897413</td>\n",
       "      <td>4.0</td>\n",
       "      <td>1.0</td>\n",
       "      <td>184.0</td>\n",
       "      <td>25.0</td>\n",
       "      <td>487.0</td>\n",
       "      <td>3.0</td>\n",
       "    </tr>\n",
       "    <tr>\n",
       "      <th>1</th>\n",
       "      <td>u108906458</td>\n",
       "      <td>4.0</td>\n",
       "      <td>1.0</td>\n",
       "      <td>125.0</td>\n",
       "      <td>28.0</td>\n",
       "      <td>217.0</td>\n",
       "      <td>2.0</td>\n",
       "    </tr>\n",
       "    <tr>\n",
       "      <th>2</th>\n",
       "      <td>u125870461</td>\n",
       "      <td>3.0</td>\n",
       "      <td>1.0</td>\n",
       "      <td>184.0</td>\n",
       "      <td>25.0</td>\n",
       "      <td>474.0</td>\n",
       "      <td>3.0</td>\n",
       "    </tr>\n",
       "    <tr>\n",
       "      <th>3</th>\n",
       "      <td>u133924361</td>\n",
       "      <td>4.0</td>\n",
       "      <td>1.0</td>\n",
       "      <td>184.0</td>\n",
       "      <td>25.0</td>\n",
       "      <td>502.0</td>\n",
       "      <td>2.0</td>\n",
       "    </tr>\n",
       "    <tr>\n",
       "      <th>4</th>\n",
       "      <td>u133924360</td>\n",
       "      <td>4.0</td>\n",
       "      <td>1.0</td>\n",
       "      <td>184.0</td>\n",
       "      <td>25.0</td>\n",
       "      <td>502.0</td>\n",
       "      <td>3.0</td>\n",
       "    </tr>\n",
       "  </tbody>\n",
       "</table>\n",
       "</div>"
      ],
      "text/plain": [
       "          uId  age  gender   city  province  phoneType  carrier\n",
       "0  u129897413  4.0     1.0  184.0      25.0      487.0      3.0\n",
       "1  u108906458  4.0     1.0  125.0      28.0      217.0      2.0\n",
       "2  u125870461  3.0     1.0  184.0      25.0      474.0      3.0\n",
       "3  u133924361  4.0     1.0  184.0      25.0      502.0      2.0\n",
       "4  u133924360  4.0     1.0  184.0      25.0      502.0      3.0"
      ]
     },
     "execution_count": 3,
     "metadata": {},
     "output_type": "execute_result"
    }
   ],
   "source": [
    "user_info.head()"
   ]
  },
  {
   "cell_type": "code",
   "execution_count": 4,
   "metadata": {},
   "outputs": [
    {
     "data": {
      "text/html": [
       "<div>\n",
       "<style scoped>\n",
       "    .dataframe tbody tr th:only-of-type {\n",
       "        vertical-align: middle;\n",
       "    }\n",
       "\n",
       "    .dataframe tbody tr th {\n",
       "        vertical-align: top;\n",
       "    }\n",
       "\n",
       "    .dataframe thead th {\n",
       "        text-align: right;\n",
       "    }\n",
       "</style>\n",
       "<table border=\"1\" class=\"dataframe\">\n",
       "  <thead>\n",
       "    <tr style=\"text-align: right;\">\n",
       "      <th></th>\n",
       "      <th>adId</th>\n",
       "      <th>billId</th>\n",
       "      <th>primId</th>\n",
       "      <th>creativeType</th>\n",
       "      <th>intertype</th>\n",
       "      <th>spreadAppId</th>\n",
       "    </tr>\n",
       "  </thead>\n",
       "  <tbody>\n",
       "    <tr>\n",
       "      <th>0</th>\n",
       "      <td>5223</td>\n",
       "      <td>1</td>\n",
       "      <td>6</td>\n",
       "      <td>3</td>\n",
       "      <td>2</td>\n",
       "      <td>73.0</td>\n",
       "    </tr>\n",
       "    <tr>\n",
       "      <th>1</th>\n",
       "      <td>5222</td>\n",
       "      <td>1</td>\n",
       "      <td>6</td>\n",
       "      <td>3</td>\n",
       "      <td>2</td>\n",
       "      <td>73.0</td>\n",
       "    </tr>\n",
       "    <tr>\n",
       "      <th>2</th>\n",
       "      <td>5221</td>\n",
       "      <td>1</td>\n",
       "      <td>234</td>\n",
       "      <td>3</td>\n",
       "      <td>2</td>\n",
       "      <td>73.0</td>\n",
       "    </tr>\n",
       "    <tr>\n",
       "      <th>3</th>\n",
       "      <td>5220</td>\n",
       "      <td>1</td>\n",
       "      <td>234</td>\n",
       "      <td>8</td>\n",
       "      <td>2</td>\n",
       "      <td>73.0</td>\n",
       "    </tr>\n",
       "    <tr>\n",
       "      <th>4</th>\n",
       "      <td>5219</td>\n",
       "      <td>1</td>\n",
       "      <td>234</td>\n",
       "      <td>3</td>\n",
       "      <td>2</td>\n",
       "      <td>73.0</td>\n",
       "    </tr>\n",
       "  </tbody>\n",
       "</table>\n",
       "</div>"
      ],
      "text/plain": [
       "   adId  billId  primId  creativeType  intertype  spreadAppId\n",
       "0  5223       1       6             3          2         73.0\n",
       "1  5222       1       6             3          2         73.0\n",
       "2  5221       1     234             3          2         73.0\n",
       "3  5220       1     234             8          2         73.0\n",
       "4  5219       1     234             3          2         73.0"
      ]
     },
     "execution_count": 4,
     "metadata": {},
     "output_type": "execute_result"
    }
   ],
   "source": [
    "ad_info.head()"
   ]
  },
  {
   "cell_type": "code",
   "execution_count": 5,
   "metadata": {},
   "outputs": [
    {
     "data": {
      "text/html": [
       "<div>\n",
       "<style scoped>\n",
       "    .dataframe tbody tr th:only-of-type {\n",
       "        vertical-align: middle;\n",
       "    }\n",
       "\n",
       "    .dataframe tbody tr th {\n",
       "        vertical-align: top;\n",
       "    }\n",
       "\n",
       "    .dataframe thead th {\n",
       "        text-align: right;\n",
       "    }\n",
       "</style>\n",
       "<table border=\"1\" class=\"dataframe\">\n",
       "  <thead>\n",
       "    <tr style=\"text-align: right;\">\n",
       "      <th></th>\n",
       "      <th>contentId</th>\n",
       "      <th>firstClass</th>\n",
       "      <th>secondClass</th>\n",
       "    </tr>\n",
       "  </thead>\n",
       "  <tbody>\n",
       "    <tr>\n",
       "      <th>0</th>\n",
       "      <td>5198</td>\n",
       "      <td>23</td>\n",
       "      <td>89</td>\n",
       "    </tr>\n",
       "    <tr>\n",
       "      <th>1</th>\n",
       "      <td>5197</td>\n",
       "      <td>1</td>\n",
       "      <td>1</td>\n",
       "    </tr>\n",
       "    <tr>\n",
       "      <th>2</th>\n",
       "      <td>5196</td>\n",
       "      <td>1</td>\n",
       "      <td>1</td>\n",
       "    </tr>\n",
       "    <tr>\n",
       "      <th>3</th>\n",
       "      <td>5195</td>\n",
       "      <td>1</td>\n",
       "      <td>1</td>\n",
       "    </tr>\n",
       "    <tr>\n",
       "      <th>4</th>\n",
       "      <td>5194</td>\n",
       "      <td>1</td>\n",
       "      <td>1</td>\n",
       "    </tr>\n",
       "  </tbody>\n",
       "</table>\n",
       "</div>"
      ],
      "text/plain": [
       "   contentId  firstClass  secondClass\n",
       "0       5198          23           89\n",
       "1       5197           1            1\n",
       "2       5196           1            1\n",
       "3       5195           1            1\n",
       "4       5194           1            1"
      ]
     },
     "execution_count": 5,
     "metadata": {},
     "output_type": "execute_result"
    }
   ],
   "source": [
    "content_info.head()"
   ]
  },
  {
   "cell_type": "code",
   "execution_count": 1,
   "metadata": {},
   "outputs": [],
   "source": [
    "del train\n",
    "del neg\n",
    "del pos\n",
    "del train_uid1_label1_counts_data\n",
    "del train_uid_label0_counts_data\n",
    "gc.collect()"
   ]
  },
  {
   "cell_type": "markdown",
   "metadata": {},
   "source": [
    "# 处理每一天的数据，按照uid出现次数采样，label＝１\n",
    "# train_28.csv代表不同的天数"
   ]
  },
  {
   "cell_type": "code",
   "execution_count": 15,
   "metadata": {},
   "outputs": [],
   "source": [
    "train = pd.read_csv(r'/media/zsy/Data/ZSY/hw_dataset/data/init/26-31/train_28.csv')"
   ]
  },
  {
   "cell_type": "code",
   "execution_count": 16,
   "metadata": {},
   "outputs": [],
   "source": [
    "train.columns = ['label', 'uId', 'adId', 'operTime', 'siteId', 'slotId', 'contentId', 'netType']"
   ]
  },
  {
   "cell_type": "markdown",
   "metadata": {},
   "source": [
    "# 分离出train中label = 1 和　lable = 0 的数据\n",
    "# 并分别计算他们的uid 出现的次数，作为新的一列"
   ]
  },
  {
   "cell_type": "code",
   "execution_count": 17,
   "metadata": {},
   "outputs": [],
   "source": [
    "neg = train.loc[train['label'] == 0]\n",
    "pos = train.loc[train['label'] == 1]\n",
    "neg = neg.reset_index(drop = True)\n",
    "pos = pos.reset_index(drop = True)"
   ]
  },
  {
   "cell_type": "code",
   "execution_count": 18,
   "metadata": {},
   "outputs": [
    {
     "data": {
      "text/plain": [
       "(23331611, 8)"
      ]
     },
     "execution_count": 18,
     "metadata": {},
     "output_type": "execute_result"
    }
   ],
   "source": [
    "neg.shape"
   ]
  },
  {
   "cell_type": "code",
   "execution_count": 19,
   "metadata": {},
   "outputs": [
    {
     "data": {
      "text/plain": [
       "(1475854, 8)"
      ]
     },
     "execution_count": 19,
     "metadata": {},
     "output_type": "execute_result"
    }
   ],
   "source": [
    "pos.shape"
   ]
  },
  {
   "cell_type": "code",
   "execution_count": 20,
   "metadata": {},
   "outputs": [],
   "source": [
    "uid_stats = pos['uId'].value_counts()\n",
    "pos_uid_counts = np.hstack([pos['uId'].values.reshape(-1,1),pos['uId'].map(uid_stats).values.reshape(-1,1)])\n",
    "pos_uid_counts = pd.DataFrame(pos_uid_counts)\n",
    "pos_uid_counts.columns = ['uId','counts']\n",
    "pos['uId_count'] = pos_uid_counts['counts']"
   ]
  },
  {
   "cell_type": "code",
   "execution_count": 21,
   "metadata": {},
   "outputs": [],
   "source": [
    "uid_stats = neg['uId'].value_counts()\n",
    "neg_uid_counts = np.hstack([neg['uId'].values.reshape(-1,1),neg['uId'].map(uid_stats).values.reshape(-1,1)])\n",
    "neg_uid_counts = pd.DataFrame(neg_uid_counts)\n",
    "neg_uid_counts.columns = ['uId','counts']\n",
    "neg['uId_count'] = neg_uid_counts['counts']"
   ]
  },
  {
   "cell_type": "markdown",
   "metadata": {},
   "source": [
    "# 将label = 1 的数据中，uid仅出现过一次的那些数据提取出来"
   ]
  },
  {
   "cell_type": "code",
   "execution_count": 22,
   "metadata": {},
   "outputs": [
    {
     "data": {
      "text/plain": [
       "(761090, 9)"
      ]
     },
     "execution_count": 22,
     "metadata": {},
     "output_type": "execute_result"
    }
   ],
   "source": [
    "train_uid1_label1_counts_data = pos.loc[pos['uId_count'] == 1,:]\n",
    "train_uid1_label1_counts_data = train_uid1_label1_counts_data.reset_index(drop = True)\n",
    "train_uid1_label1_counts_data.shape"
   ]
  },
  {
   "cell_type": "markdown",
   "metadata": {},
   "source": [
    "# 在label = 0 的数据中，使用上一步得到的数据的uid进行匹配，得到label = 0 的数据"
   ]
  },
  {
   "cell_type": "code",
   "execution_count": 23,
   "metadata": {},
   "outputs": [
    {
     "data": {
      "text/plain": [
       "(2628280, 9)"
      ]
     },
     "execution_count": 23,
     "metadata": {},
     "output_type": "execute_result"
    }
   ],
   "source": [
    "train_uid_label0_counts_data = neg.loc[neg['uId'].isin(train_uid1_label1_counts_data['uId'].unique().tolist()),:]\n",
    "train_uid_label0_counts_data = train_uid_label0_counts_data.reset_index(drop = True)\n",
    "train_uid_label0_counts_data.shape"
   ]
  },
  {
   "cell_type": "code",
   "execution_count": 24,
   "metadata": {},
   "outputs": [],
   "source": [
    "rest_num = 1000000-train_uid1_label1_counts_data.shape[0]"
   ]
  },
  {
   "cell_type": "markdown",
   "metadata": {},
   "source": [
    "# 采样剩下的负样本，凑够１００万数据"
   ]
  },
  {
   "cell_type": "code",
   "execution_count": 69,
   "metadata": {},
   "outputs": [],
   "source": [
    "index = np.random.randint(0,train_uid_label0_counts_data.shape[0],rest_num)\n",
    "train_uid_label0_counts_sample = train_uid_label0_counts_data.iloc[index,:]"
   ]
  },
  {
   "cell_type": "markdown",
   "metadata": {},
   "source": [
    "# 进行数据融合，并且打乱顺序"
   ]
  },
  {
   "cell_type": "code",
   "execution_count": 70,
   "metadata": {},
   "outputs": [],
   "source": [
    "data_label1_uid1 = pd.concat([train_uid1_label1_counts_data,train_uid_label0_counts_sample])\n",
    "data_label1_uid1 = data_label1_uid1.reset_index(drop = True)\n",
    "data_label1_uid1.drop(['uId_count'],axis = 1,inplace = True)\n",
    "data_label1_uid1 = shuffle(data_label1_uid1)\n",
    "data_label1_uid1 = data_label1_uid1.reset_index(drop = True)"
   ]
  },
  {
   "cell_type": "code",
   "execution_count": 71,
   "metadata": {},
   "outputs": [],
   "source": [
    "uid_stats = data_label1_uid1['uId'].value_counts()\n",
    "train_uid1_counts = np.hstack([data_label1_uid1['uId'].values.reshape(-1,1),data_label1_uid1['uId'].map(uid_stats).values.reshape(-1,1)])\n",
    "train_uid1_counts = pd.DataFrame(train_uid1_counts)\n",
    "train_uid1_counts.columns = ['uId','counts']\n",
    "data_label1_uid1['uId_count'] = train_uid1_counts['counts']"
   ]
  },
  {
   "cell_type": "code",
   "execution_count": 72,
   "metadata": {},
   "outputs": [
    {
     "data": {
      "text/html": [
       "<div>\n",
       "<style scoped>\n",
       "    .dataframe tbody tr th:only-of-type {\n",
       "        vertical-align: middle;\n",
       "    }\n",
       "\n",
       "    .dataframe tbody tr th {\n",
       "        vertical-align: top;\n",
       "    }\n",
       "\n",
       "    .dataframe thead th {\n",
       "        text-align: right;\n",
       "    }\n",
       "</style>\n",
       "<table border=\"1\" class=\"dataframe\">\n",
       "  <thead>\n",
       "    <tr style=\"text-align: right;\">\n",
       "      <th></th>\n",
       "      <th>label</th>\n",
       "      <th>uId</th>\n",
       "      <th>adId</th>\n",
       "      <th>operTime</th>\n",
       "      <th>siteId</th>\n",
       "      <th>slotId</th>\n",
       "      <th>contentId</th>\n",
       "      <th>netType</th>\n",
       "      <th>uId_count</th>\n",
       "    </tr>\n",
       "  </thead>\n",
       "  <tbody>\n",
       "    <tr>\n",
       "      <th>0</th>\n",
       "      <td>1</td>\n",
       "      <td>u126919839</td>\n",
       "      <td>1582</td>\n",
       "      <td>2019-03-31 12:39:05.245</td>\n",
       "      <td>10</td>\n",
       "      <td>8</td>\n",
       "      <td>1222</td>\n",
       "      <td>1</td>\n",
       "      <td>1</td>\n",
       "    </tr>\n",
       "    <tr>\n",
       "      <th>1</th>\n",
       "      <td>1</td>\n",
       "      <td>u143373065</td>\n",
       "      <td>3408</td>\n",
       "      <td>2019-03-31 18:40:48.623</td>\n",
       "      <td>8</td>\n",
       "      <td>87</td>\n",
       "      <td>4005</td>\n",
       "      <td>1</td>\n",
       "      <td>1</td>\n",
       "    </tr>\n",
       "    <tr>\n",
       "      <th>2</th>\n",
       "      <td>1</td>\n",
       "      <td>u148060321</td>\n",
       "      <td>3887</td>\n",
       "      <td>2019-03-31 08:30:45.805</td>\n",
       "      <td>10</td>\n",
       "      <td>30</td>\n",
       "      <td>2137</td>\n",
       "      <td>1</td>\n",
       "      <td>1</td>\n",
       "    </tr>\n",
       "    <tr>\n",
       "      <th>3</th>\n",
       "      <td>1</td>\n",
       "      <td>u134582615</td>\n",
       "      <td>1614</td>\n",
       "      <td>2019-03-31 19:41:25.356</td>\n",
       "      <td>9</td>\n",
       "      <td>22</td>\n",
       "      <td>1676</td>\n",
       "      <td>1</td>\n",
       "      <td>1</td>\n",
       "    </tr>\n",
       "    <tr>\n",
       "      <th>4</th>\n",
       "      <td>1</td>\n",
       "      <td>u120865155</td>\n",
       "      <td>3486</td>\n",
       "      <td>2019-03-31 22:15:03.475</td>\n",
       "      <td>8</td>\n",
       "      <td>88</td>\n",
       "      <td>4104</td>\n",
       "      <td>4</td>\n",
       "      <td>2</td>\n",
       "    </tr>\n",
       "  </tbody>\n",
       "</table>\n",
       "</div>"
      ],
      "text/plain": [
       "   label         uId  adId                 operTime  siteId  slotId  \\\n",
       "0      1  u126919839  1582  2019-03-31 12:39:05.245      10       8   \n",
       "1      1  u143373065  3408  2019-03-31 18:40:48.623       8      87   \n",
       "2      1  u148060321  3887  2019-03-31 08:30:45.805      10      30   \n",
       "3      1  u134582615  1614  2019-03-31 19:41:25.356       9      22   \n",
       "4      1  u120865155  3486  2019-03-31 22:15:03.475       8      88   \n",
       "\n",
       "   contentId  netType uId_count  \n",
       "0       1222        1         1  \n",
       "1       4005        1         1  \n",
       "2       2137        1         1  \n",
       "3       1676        1         1  \n",
       "4       4104        4         2  "
      ]
     },
     "execution_count": 72,
     "metadata": {},
     "output_type": "execute_result"
    }
   ],
   "source": [
    "data_label1_uid1.head()"
   ]
  },
  {
   "cell_type": "markdown",
   "metadata": {},
   "source": [
    "# 最终数据融合"
   ]
  },
  {
   "cell_type": "code",
   "execution_count": 73,
   "metadata": {},
   "outputs": [],
   "source": [
    "data_label1_uid1 = pd.merge(data_label1_uid1,user_info, how='left', left_on='uId',right_on='uId')\n",
    "data_label1_uid1 =  pd.merge(data_label1_uid1,ad_info, how='left', left_on='adId',right_on='adId')\n",
    "data_label1_uid1 =  pd.merge(data_label1_uid1,content_info, how='left', left_on='contentId',right_on='contentId')\n",
    "data_label1_uid1 = data_label1_uid1.fillna(0)"
   ]
  },
  {
   "cell_type": "code",
   "execution_count": 5,
   "metadata": {},
   "outputs": [],
   "source": [
    "# test只需运行一次，生成一个test样本就可以了\n",
    "test_data = pd.merge(test_data,user_info, how='left', left_on='uId',right_on='uId')\n",
    "test_data =  pd.merge(test_data,ad_info, how='left', left_on='adId',right_on='adId')\n",
    "test_data =  pd.merge(test_data,content_info, how='left', left_on='contentId',right_on='contentId')\n",
    "test_data = data_label1_uid1.fillna(0)\n",
    "test_data.to_csv('test.csv',index = False)"
   ]
  },
  {
   "cell_type": "code",
   "execution_count": 6,
   "metadata": {},
   "outputs": [],
   "source": [
    "# 存储数据"
   ]
  },
  {
   "cell_type": "code",
   "execution_count": 75,
   "metadata": {},
   "outputs": [],
   "source": [
    "data_label1_uid1.to_csv('data/by_data/uid1_label1_train_28.csv',index = False)"
   ]
  },
  {
   "cell_type": "code",
   "execution_count": null,
   "metadata": {},
   "outputs": [],
   "source": []
  }
 ],
 "metadata": {
  "kernelspec": {
   "display_name": "Python 3",
   "language": "python",
   "name": "python3"
  },
  "language_info": {
   "codemirror_mode": {
    "name": "ipython",
    "version": 3
   },
   "file_extension": ".py",
   "mimetype": "text/x-python",
   "name": "python",
   "nbconvert_exporter": "python",
   "pygments_lexer": "ipython3",
   "version": "3.6.8"
  }
 },
 "nbformat": 4,
 "nbformat_minor": 2
}
